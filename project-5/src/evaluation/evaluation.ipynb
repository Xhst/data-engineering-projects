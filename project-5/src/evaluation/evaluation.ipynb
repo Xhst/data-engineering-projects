{
 "cells": [
  {
   "cell_type": "code",
   "execution_count": 1,
   "metadata": {},
   "outputs": [],
   "source": [
    "import pm_evaluation"
   ]
  },
  {
   "cell_type": "markdown",
   "metadata": {},
   "source": [
    "### Evaluation\n",
    "\n",
    "We use gt for evaluations. We do blocking and pw on gt."
   ]
  },
  {
   "cell_type": "markdown",
   "metadata": {},
   "source": [
    "#### Blocking"
   ]
  },
  {
   "cell_type": "code",
   "execution_count": null,
   "metadata": {},
   "outputs": [],
   "source": [
    "import importlib.util\n",
    "import sys\n",
    "\n",
    "module_dir = \"../pairwise_matching/ditto\"\n",
    "module_path = \"../pairwise_matching/ditto/matcher.py\"\n",
    "\n",
    "# Add the directory to sys.path (to allow imports inside the module to work)\n",
    "if module_dir not in sys.path:\n",
    "    sys.path.append(module_dir)\n",
    "\n",
    "# Load the module dynamically\n",
    "module_name = \"your_module_name\"\n",
    "spec = importlib.util.spec_from_file_location(module_name, module_path)\n",
    "matcher = importlib.util.module_from_spec(spec)\n",
    "spec.loader.exec_module(matcher)"
   ]
  },
  {
   "cell_type": "code",
   "execution_count": 4,
   "metadata": {},
   "outputs": [
    {
     "ename": "SyntaxError",
     "evalue": "incomplete input (1735593800.py, line 14)",
     "output_type": "error",
     "traceback": [
      "\u001b[1;36m  Cell \u001b[1;32mIn[4], line 14\u001b[1;36m\u001b[0m\n\u001b[1;33m    elif pw_method == \"deepmatcher\":\u001b[0m\n\u001b[1;37m                                    ^\u001b[0m\n\u001b[1;31mSyntaxError\u001b[0m\u001b[1;31m:\u001b[0m incomplete input\n"
     ]
    }
   ],
   "source": [
    "blocking_paths = [\"lsh_bigram_blocking_gt.json\", \"lsh_words_blocking_gt.json\"]\n",
    "pairwise_methods = [\"jarowinkler\", \"ditto\", \"deepmatcher\"]\n",
    "\n",
    "for blocking_path in blocking_paths:\n",
    "    pairs: set = pm_evaluation.get_pairs_for_pairwise_matching(blocking_path)\n",
    "    \n",
    "    for pw_method in pairwise_methods:\n",
    "        if pw_method == \"jarowinkler\":\n",
    "            for threshold in range(0.6, 0.9, 0.1):\n",
    "                # do jarowinkler pw and save to file\n",
    "                pass\n",
    "        elif pw_method == \"ditto\":\n",
    "            matcher.ditto_pairwise_matching(pairs_to_evaluate=pairs)\n",
    "        elif pw_method == \"deepmatcher\":\n",
    "            # do dm pw aoooo\n",
    "            pass"
   ]
  },
  {
   "cell_type": "markdown",
   "metadata": {},
   "source": []
  },
  {
   "cell_type": "markdown",
   "metadata": {},
   "source": [
    "Time for ditto pairwise matching on 65.895 items after lsh_bigram_blocking: **9504.578912 seconds - 158 minutes.**"
   ]
  }
 ],
 "metadata": {
  "kernelspec": {
   "display_name": "Python 3",
   "language": "python",
   "name": "python3"
  },
  "language_info": {
   "codemirror_mode": {
    "name": "ipython",
    "version": 3
   },
   "file_extension": ".py",
   "mimetype": "text/x-python",
   "name": "python",
   "nbconvert_exporter": "python",
   "pygments_lexer": "ipython3",
   "version": "3.11.3"
  }
 },
 "nbformat": 4,
 "nbformat_minor": 2
}
