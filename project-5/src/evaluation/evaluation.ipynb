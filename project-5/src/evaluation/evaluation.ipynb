{
 "cells": [
  {
   "cell_type": "code",
   "execution_count": 1,
   "metadata": {},
   "outputs": [],
   "source": [
    "import pm_evaluation"
   ]
  },
  {
   "cell_type": "markdown",
   "metadata": {},
   "source": [
    "### Evaluation\n",
    "\n",
    "We use gt for evaluations. We do blocking and pw on gt."
   ]
  },
  {
   "cell_type": "markdown",
   "metadata": {},
   "source": [
    "#### Blocking"
   ]
  },
  {
   "cell_type": "code",
   "execution_count": 2,
   "metadata": {},
   "outputs": [
    {
     "name": "stderr",
     "output_type": "stream",
     "text": [
      "c:\\Program Files\\Python311\\Lib\\site-packages\\tqdm\\auto.py:21: TqdmWarning: IProgress not found. Please update jupyter and ipywidgets. See https://ipywidgets.readthedocs.io/en/stable/user_install.html\n",
      "  from .autonotebook import tqdm as notebook_tqdm\n"
     ]
    }
   ],
   "source": [
    "import importlib.util\n",
    "import sys\n",
    "\n",
    "module_dir = \"../pairwise_matching/ditto\"\n",
    "module_path = \"../pairwise_matching/ditto/matcher.py\"\n",
    "\n",
    "# Add the directory to sys.path (to allow imports inside the module to work)\n",
    "if module_dir not in sys.path:\n",
    "    sys.path.append(module_dir)\n",
    "\n",
    "# Load the module dynamically\n",
    "module_name = \"your_module_name\"\n",
    "spec = importlib.util.spec_from_file_location(module_name, module_path)\n",
    "ditto_matcher = importlib.util.module_from_spec(spec)\n",
    "spec.loader.exec_module(ditto_matcher)\n",
    "\n",
    "module_dir = \"../pairwise_matching\"\n",
    "module_path = \"../pairwise_matching/rll_pairwise_matching.py\"\n",
    "\n",
    "# Add the directory to sys.path (to allow imports inside the module to work)\n",
    "if module_dir not in sys.path:\n",
    "    sys.path.append(module_dir)\n",
    "\n",
    "# Load the module dynamically\n",
    "module_name = \"your_module_name\"\n",
    "spec = importlib.util.spec_from_file_location(module_name, module_path)\n",
    "jw_matcher = importlib.util.module_from_spec(spec)\n",
    "spec.loader.exec_module(jw_matcher)"
   ]
  },
  {
   "cell_type": "code",
   "execution_count": 4,
   "metadata": {},
   "outputs": [
    {
     "name": "stdout",
     "output_type": "stream",
     "text": [
      "609295\n"
     ]
    },
    {
     "name": "stderr",
     "output_type": "stream",
     "text": [
      "c:\\Code\\VSCode\\de-projects\\project-5\\src\\evaluation\\../pairwise_matching/ditto/matcher.py:305: FutureWarning: You are using `torch.load` with `weights_only=False` (the current default value), which uses the default pickle module implicitly. It is possible to construct malicious pickle data which will execute arbitrary code during unpickling (See https://github.com/pytorch/pytorch/blob/main/SECURITY.md#untrusted-models for more details). In a future release, the default value for `weights_only` will be flipped to `True`. This limits the functions that could be executed during unpickling. Arbitrary objects will no longer be allowed to be loaded via this mode unless they are explicitly allowlisted by the user via `torch.serialization.add_safe_globals`. We recommend you start setting `weights_only=True` for any use case where you don't have full control of the loaded file. Please open an issue on GitHub for any issues related to this experimental feature.\n",
      "  saved_state = torch.load(checkpoint, map_location=lambda storage, loc: storage)\n",
      "106it [00:00, ?it/s]\n"
     ]
    },
    {
     "name": "stdout",
     "output_type": "stream",
     "text": [
      "load_f1 = 0.9465648854961832\n",
      "real_f1 = 0.9545454545454546\n"
     ]
    }
   ],
   "source": [
    "blocking_paths = [\"lsh_bigram_blocking.json\",\"lsh_bigram_gt_blocking.json\", \"lsh_words_gt_blocking.json\", \"lsh_bigram_aq_gt_blocking.json\", \"lsh_words_aq_gt_blocking.json\" ]\n",
    "pairwise_methods = [\"jarowinkler\", \"ditto\", \"deepmatcher\"]\n",
    "\n",
    "for blocking_path in blocking_paths:\n",
    "    if blocking_path == \"lsh_bigram_blocking.json\":\n",
    "        pairs: list = pm_evaluation.get_pairs_for_pairwise_matching(blocking_path)\n",
    "        print(len(pairs))\n",
    "        \n",
    "        for pw_method in pairwise_methods:\n",
    "            #if pw_method == \"jarowinkler\":\n",
    "                #for threshold in [0.7, 0.75]:\n",
    "                    # do jarowinkler pw and save to file\n",
    "                    #jw_matcher.pairwise_matching(blocking_path, threshold)\n",
    "            if pw_method == \"ditto\":\n",
    "                blocking_path = blocking_path.replace(\"json\", \"txt\")\n",
    "                ditto_matcher.pairwise_matching(pairs_to_evaluate=pairs,\n",
    "                                                checkpoint_path='../pairwise_matching/ditto/checkpoints/',\n",
    "                                                ditto_path='../pairwise_matching/ditto/',\n",
    "                                                output_path='results/ditto/' + blocking_path)\n",
    "            elif pw_method == \"deepmatcher\":\n",
    "                # do dm pw aoooo\n",
    "                pass"
   ]
  },
  {
   "cell_type": "markdown",
   "metadata": {},
   "source": [
    "#### Eval of pairwise"
   ]
  },
  {
   "cell_type": "code",
   "execution_count": 4,
   "metadata": {},
   "outputs": [
    {
     "name": "stdout",
     "output_type": "stream",
     "text": [
      "\u001b[31mDEEPMATCHER\u001b[0m\n",
      "\n",
      "\u001b[36mPairwise matching EVALUATION for results\\deepmatcher\\lsh_bigram_gt_blocking.txt\u001b[0m\n",
      "- \u001b[32mPrecision: \u001b[0m0.99\n",
      "- \u001b[32mRecall: \u001b[0m0.83\n",
      "- \u001b[32mF1: \u001b[0m0.90\n",
      "\n",
      "\n",
      "\u001b[36mPairwise matching EVALUATION for results\\deepmatcher\\lsh_words_gt_blocking.txt\u001b[0m\n",
      "- \u001b[32mPrecision: \u001b[0m0.99\n",
      "- \u001b[32mRecall: \u001b[0m0.84\n",
      "- \u001b[32mF1: \u001b[0m0.91\n",
      "\n",
      "\u001b[31mDITTO\u001b[0m\n",
      "\n",
      "\u001b[36mPairwise matching EVALUATION for results\\ditto\\lsh_bigram_aq_gt_blocking.txt\u001b[0m\n",
      "- \u001b[32mPrecision: \u001b[0m0.97\n",
      "- \u001b[32mRecall: \u001b[0m0.96\n",
      "- \u001b[32mF1: \u001b[0m0.96\n",
      "\n",
      "\n",
      "\u001b[36mPairwise matching EVALUATION for results\\ditto\\lsh_bigram_gt_blocking.txt\u001b[0m\n",
      "- \u001b[32mPrecision: \u001b[0m0.97\n",
      "- \u001b[32mRecall: \u001b[0m0.98\n",
      "- \u001b[32mF1: \u001b[0m0.97\n",
      "\n",
      "\n",
      "\u001b[36mPairwise matching EVALUATION for results\\ditto\\lsh_words_aq_gt_blocking.txt\u001b[0m\n",
      "- \u001b[32mPrecision: \u001b[0m0.97\n",
      "- \u001b[32mRecall: \u001b[0m0.95\n",
      "- \u001b[32mF1: \u001b[0m0.96\n",
      "\n",
      "\n",
      "\u001b[36mPairwise matching EVALUATION for results\\ditto\\lsh_words_gt_blocking.txt\u001b[0m\n",
      "- \u001b[32mPrecision: \u001b[0m0.97\n",
      "- \u001b[32mRecall: \u001b[0m0.98\n",
      "- \u001b[32mF1: \u001b[0m0.97\n",
      "\n",
      "\u001b[31mJAROWINKLER\u001b[0m\n",
      "\n",
      "\u001b[36mPairwise matching EVALUATION for results\\jarowinkler\\lsh_bigram_aq_gt_t0.7.txt\u001b[0m\n",
      "- \u001b[32mPrecision: \u001b[0m0.96\n",
      "- \u001b[32mRecall: \u001b[0m0.92\n",
      "- \u001b[32mF1: \u001b[0m0.94\n",
      "\n",
      "\n",
      "\u001b[36mPairwise matching EVALUATION for results\\jarowinkler\\lsh_bigram_aq_gt_t0.75.txt\u001b[0m\n",
      "- \u001b[32mPrecision: \u001b[0m0.96\n",
      "- \u001b[32mRecall: \u001b[0m0.92\n",
      "- \u001b[32mF1: \u001b[0m0.94\n",
      "\n",
      "\n",
      "\u001b[36mPairwise matching EVALUATION for results\\jarowinkler\\lsh_bigram_gt_t0.7.txt\u001b[0m\n",
      "- \u001b[32mPrecision: \u001b[0m0.96\n",
      "- \u001b[32mRecall: \u001b[0m0.94\n",
      "- \u001b[32mF1: \u001b[0m0.95\n",
      "\n",
      "\n",
      "\u001b[36mPairwise matching EVALUATION for results\\jarowinkler\\lsh_bigram_gt_t0.75.txt\u001b[0m\n",
      "- \u001b[32mPrecision: \u001b[0m0.96\n",
      "- \u001b[32mRecall: \u001b[0m0.94\n",
      "- \u001b[32mF1: \u001b[0m0.95\n",
      "\n",
      "\n",
      "\u001b[36mPairwise matching EVALUATION for results\\jarowinkler\\lsh_words_aq_gt_t0.7.txt\u001b[0m\n",
      "- \u001b[32mPrecision: \u001b[0m0.96\n",
      "- \u001b[32mRecall: \u001b[0m0.91\n",
      "- \u001b[32mF1: \u001b[0m0.93\n",
      "\n",
      "\n",
      "\u001b[36mPairwise matching EVALUATION for results\\jarowinkler\\lsh_words_aq_gt_t0.75.txt\u001b[0m\n",
      "- \u001b[32mPrecision: \u001b[0m0.96\n",
      "- \u001b[32mRecall: \u001b[0m0.91\n",
      "- \u001b[32mF1: \u001b[0m0.93\n",
      "\n",
      "\n",
      "\u001b[36mPairwise matching EVALUATION for results\\jarowinkler\\lsh_words_gt_t0.7.txt\u001b[0m\n",
      "- \u001b[32mPrecision: \u001b[0m0.96\n",
      "- \u001b[32mRecall: \u001b[0m0.94\n",
      "- \u001b[32mF1: \u001b[0m0.95\n",
      "\n",
      "\n",
      "\u001b[36mPairwise matching EVALUATION for results\\jarowinkler\\lsh_words_gt_t0.75.txt\u001b[0m\n",
      "- \u001b[32mPrecision: \u001b[0m0.96\n",
      "- \u001b[32mRecall: \u001b[0m0.94\n",
      "- \u001b[32mF1: \u001b[0m0.95\n",
      "\n"
     ]
    }
   ],
   "source": [
    "import os\n",
    "RED = \"\\033[31m\"\n",
    "RESET = \"\\033[0m\"\n",
    "\n",
    "for dirpath, _, filenames in os.walk(\"results\"):\n",
    "    if dirpath != \"results\":\n",
    "        name = dirpath.split(\"\\\\\")[1].upper()\n",
    "        print(f\"{RED}{name}{RESET}\")\n",
    "    for filename in filenames:\n",
    "        filepath = os.path.join(dirpath, filename)\n",
    "        pm_evaluation.evaluate(\"../ground_truth/gt.txt\", filepath)\n",
    "        "
   ]
  },
  {
   "cell_type": "markdown",
   "metadata": {},
   "source": [
    "#### Execution Times\n",
    "\n",
    "##### Ditto\n",
    "Time for ditto pairwise matching on 65.895 items - 609295 pairs after lsh_bigram_blocking: **71 minutes.**\n",
    "\n",
    "Time for ditto pairwise matching on gt items with both blocking methods: **Average of 1.6 seconds**\n",
    "\n",
    "##### Jarowinkler\n",
    "Time for jarowinkler pairwise matching on 65.895 items after blocking: **Average of  25 seconds**"
   ]
  }
 ],
 "metadata": {
  "kernelspec": {
   "display_name": "Python 3",
   "language": "python",
   "name": "python3"
  },
  "language_info": {
   "codemirror_mode": {
    "name": "ipython",
    "version": 3
   },
   "file_extension": ".py",
   "mimetype": "text/x-python",
   "name": "python",
   "nbconvert_exporter": "python",
   "pygments_lexer": "ipython3",
   "version": "3.11.3"
  }
 },
 "nbformat": 4,
 "nbformat_minor": 2
}
