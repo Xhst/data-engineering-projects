{
 "cells": [
  {
   "cell_type": "code",
   "execution_count": 1,
   "metadata": {},
   "outputs": [],
   "source": [
    "import pm_evaluation"
   ]
  },
  {
   "cell_type": "markdown",
   "metadata": {},
   "source": [
    "### Evaluation\n",
    "\n",
    "We use gt for evaluations. We do blocking and pw on gt."
   ]
  },
  {
   "cell_type": "markdown",
   "metadata": {},
   "source": [
    "#### Blocking"
   ]
  },
  {
   "cell_type": "code",
   "execution_count": 2,
   "metadata": {},
   "outputs": [
    {
     "name": "stderr",
     "output_type": "stream",
     "text": [
      "c:\\Program Files\\Python311\\Lib\\site-packages\\tqdm\\auto.py:21: TqdmWarning: IProgress not found. Please update jupyter and ipywidgets. See https://ipywidgets.readthedocs.io/en/stable/user_install.html\n",
      "  from .autonotebook import tqdm as notebook_tqdm\n"
     ]
    }
   ],
   "source": [
    "import importlib.util\n",
    "import sys\n",
    "\n",
    "module_dir = \"../pairwise_matching/ditto\"\n",
    "module_path = \"../pairwise_matching/ditto/matcher.py\"\n",
    "\n",
    "# Add the directory to sys.path (to allow imports inside the module to work)\n",
    "if module_dir not in sys.path:\n",
    "    sys.path.append(module_dir)\n",
    "\n",
    "# Load the module dynamically\n",
    "module_name = \"your_module_name\"\n",
    "spec = importlib.util.spec_from_file_location(module_name, module_path)\n",
    "ditto_matcher = importlib.util.module_from_spec(spec)\n",
    "spec.loader.exec_module(ditto_matcher)\n",
    "\n",
    "module_dir = \"../pairwise_matching\"\n",
    "module_path = \"../pairwise_matching/rll_pairwise_matching.py\"\n",
    "\n",
    "# Add the directory to sys.path (to allow imports inside the module to work)\n",
    "if module_dir not in sys.path:\n",
    "    sys.path.append(module_dir)\n",
    "\n",
    "# Load the module dynamically\n",
    "module_name = \"your_module_name\"\n",
    "spec = importlib.util.spec_from_file_location(module_name, module_path)\n",
    "jw_matcher = importlib.util.module_from_spec(spec)\n",
    "spec.loader.exec_module(jw_matcher)"
   ]
  },
  {
   "cell_type": "code",
   "execution_count": 7,
   "metadata": {},
   "outputs": [
    {
     "name": "stdout",
     "output_type": "stream",
     "text": [
      "[('[17073] Acer, Inc.', '[56910] Acer'), ('[18451] Nippon Electric Glass Co., Ltd.', '[58120] Nippon Electric Glass'), ('[24355] Centamin plc', '[60194] Centamin'), ('[21710] Prada S.p.A.', '[1817] Prada'), ('[18151] Nintendo Co Ltd', '[1515] Nintendo'), ('[25474] Royal Gold, Inc.', '[54881] Royal Gold'), ('[33838] Alkermes Plc', '[56316] Alkermes'), ('[58182] Nec Networks & System Integration Corporation', '[35525] NEC Networks & System Integration Corp'), ('[25687] Option Care Health, Inc.', '[4934] Option Care Health'), ('[14690] dormakaba Holding AG', '[8428] Dormakaba'), ('[62618] Corporacion America Airports', '[8372] Corporación América Airports'), ('[14681] Landis+Gyr Group AG', '[8744] Landis+gyr'), ('[27874] Extra Space Storage', '[34435] Extra Space Storage Inc'), ('[2454] Hana', '[26979] Hana Financial Group'), ('[56191] Joincare Pharmaceutical Group Industry', '[11048] Joincare Pharmaceutical Group Industry Co.,Ltd.'), ('[52682] Ashtead Group', '[48906] ASHTEAD GROUP PUBLIC LIMITED COMPANY'), ('[54234] Castellum Ab (publ)', '[28150] Castellum'), ('[58706] Itau Corpbanca', '[8737] Itaú Corpbanca'), ('[23321] Ternium Argentina SA', '[55249] Ternium Argentina'), ('[58224] Renasant Corporation', '[8619] Renasant Corp'), ('[2759] MindMaze', '[60315] Mindmaze'), ('[36735] Taiwan Mobile Co Ltd', '[1920] Taiwan Mobile'), ('[25557] Reinsurance Group of America, Incorporated', '[27463] Reinsurance Group of America'), ('[6870] Aurora Cannabis', '[16026] Aurora Cannabis Inc.'), ('[25438] Apartment Income REIT Corp.', '[4925] Apartment Income Reit'), ('[37616] Spotify Technology SA', '[27890] Spotify Technology'), ('[21895] Amundi SA', '[4694] Amundi'), ('[34476] North China Pharmaceutical Co Ltd', '[57045] North China Pharmaceutical Company. Ltd'), ('[5597] Creepy Jar', '[15739] Creepy Jar SA'), ('[47916] CITIZENM LONDON BANKSIDE OPERATIONS B.V.', '[50713] CITIZENM LONDON BANKSIDE OPERATIONS B.V.'), ('[22441] Service Stream Limited', '[33775] Service Stream Ltd'), ('[7776] Schnitzer Steel', '[35962] Schnitzer Steel Industries, Inc.'), ('[61274] Nayax Ltd.', '[15715] Nayax Ltd'), ('[18257] Kajima Corp', '[55114] Kajima Corporation'), ('[11114] JL Mag Rare-Earth Co. Ltd', '[55856] Jl Mag Rare-earth'), ('[54287] Under Armour', '[25532] Under Armour, Inc.'), ('[4904] Ionis Pharmaceuticals', '[25721] Ionis Pharmaceuticals, Inc.'), ('[50837] GIORGIO GORI SRL', '[47968] GIORGIO GORI SRL'), ('[8325] Kar Auction Services', '[58685] Kar Auction Services'), ('[9668] Oracle', '[52142] Oracle Corporation'), ('[48468] AAC TECHNOLOGIES HOLDINGS INC', '[55529] Aac Technologies Holdings'), ('[10028] New China Life Insurance', '[53428] New China Life Insurance Company'), ('[37986] Kinder Morgan Inc', '[26965] Kinder Morgan'), ('[36587] Twitter Inc', '[52799] Twitter'), ('[36055] Shanghai Maling Aquarius Co Ltd', '[61192] Shanghai Maling Aquarius'), ('[26790] Xiaomi', '[52423] Xiaomi Corporation'), ('[52164] At&t', '[23417] AT&T'), ('[4463] Société Générale', '[38633] Societe Generale SA'), ('[27109] Warner Bros. Discovery', '[53495] Warner Bros. Discovery Inc'), ('[39708] ALL ABOUT CRAFTS LIMITED', '[39705] ALL ABOUT CRAFTS TRADE LIMITED'), ('[23285] China Merchants Bank', '[9580] China Merchants Bank'), ('[46921] WATCHTOWER SECURITY SOLUTIONS UNITED KINGDOM LIMITED', '[49653] WATCHTOWER SECURITY SOLUTIONS UNITED KINGDOM LIMITED'), ('[21972] Elisa Oyj', '[54094] Elisa Oyj'), ('[3983] Kraft Heinz', '[52558] Kraft Heinz Company'), ('[30013] Nanofilm Technologies International', '[20181] Nanofilm Technologies International Ltd'), ('[12867] Banque Cantonale de Genève SA', '[60954] Banque Cantonale De Geneve Sa'), ('[27496] Union Bank of India', '[37582] Union Bank of India'), ('[28324] Booz Allen Hamilton Holding', '[25380] Booz Allen Hamilton Holding Corporation'), ('[5310] Mrc Global', '[35466] MRC Global Inc'), ('[3739] China Construction Bank', '[52162] China Construction Bank Corporation'), ('[10122] Infineon Technologies', '[4028] Infineon'), ('[35774] Spectrum Brands Holdings Inc', '[5091] Spectrum Brands'), ('[47817] MERRILL LYNCH EUROPE LIMITED', '[50609] MERRILL LYNCH EUROPE LIMITED'), ('[9068] Atlas Air Worldwide Holdings', '[36255] Atlas Air Worldwide Holdings Inc'), ('[10828] OVH Groupe SAS', '[2829] OVH'), ('[8979] Arch Resources', '[35130] Arch Resources Inc'), ('[27997] Nu Holdings', '[52582] Nu Holdings Ltd.'), ('[58068] Wonders Information', '[11423] Wonders Information Co. Ltd'), ('[56001] Leyard Optoelectronic', '[11186] Leyard Optoelectronic Co. Ltd'), ('[5125] Kennedy Wilson', '[56793] Kennedy-wilson Holdings'), ('[40870] T AND B ASSETS LTD', '[44334] T AND B ASSETS LTD'), ('[60767] Blackrock Throgmorton Trust', '[24316] BlackRock Throgmorton Trust plc'), ('[34048] Fox Factory Holding Corp', '[54797] Fox Factory Holding'), ('[47546] VEOLIA NORTH AMERICA, INC.', '[47543] VEOLIA NORTH AMERICA, LLC'), ('[65761] Mölnlycke Health Care', '[34920] Molnlycke Health Care AB'), ('[47798] EVERBRIDGE, INC.', '[58116] Everbridge'), ('[37059] PT Hanjaya Mandala Sampoerna Tbk', '[20404] Hanjaya Mandala Sampoerna Tbk PT'), ('[54324] Edison S.p.a', '[64675] Edison'), ('[4568] First Solar', '[35643] First Solar Inc'), ('[38804] Microsoft Corp', '[26508] Microsoft'), ('[52151] Chevron Corporation', '[9582] Chevron'), ('[38082] Texas Instruments Inc', '[3748] Texas Instruments'), ('[26861] Japan Tobacco', '[38184] Japan Tobacco Inc'), ('[34206] Bank Albilad', '[28107] Bank Albilad'), ('[1700] Japan Airlines (JAL)', '[18208] Japan Airlines Co. Ltd'), ('[37434] Cheniere Energy Partners LP', '[25063] Cheniere Energy, Inc.'), ('[9033] Varonis', '[55717] Varonis Systems'), ('[56879] Elite Material', '[34173] Elite Material Co Ltd'), ('[31707] Divido', '[29275] Divido Financial Services'), ('[14763] Mekonomen AB', '[62420] Mekonomen Ab (publ)'), ('[23690] JPMorgan Global Growth & Income plc', '[62271] Jpmorgan Global Growth & Income'), ('[15873] Lundin Gold Inc.', '[59242] Lundin Gold'), ('[9696] Truist Financial', '[52293] Truist Financial Corporation'), ('[6121] Hexo', '[16377] HEXO Corp.'), ('[50313] COMPAGNIA AEREA ITALIANA SPA', '[47467] COMPAGNIA AEREA ITALIANA SPA'), ('[25431] Zynga Inc.', '[54795] Zynga'), ('[3929] Monster Beverage', '[52506] Monster Beverage Corporation'), ('[47746] METSA BOARD ITALIA SRL', '[50613] METSA BOARD ITALIA SRL'), ('[35599] Sociedad Quimica y Minera de Chile SA', '[53568] Sociedad Quimica Y Minera De Chile'), ('[50565] U.C.I.T. SRL', '[47698] U.C.I.T. SRL'), ('[24588] Jubilee Enterprise Public Company Ltd', '[20023] Jubilee Industries Holdings Ltd'), ('[46226] Deutsche Bank Spa', '[21109] Deutsche Bank AG'), ('[38470] Hyundai Mobis Co Ltd', '[26980] Hyundai Mobis'), ('[54879] Air Canada', '[36592] Air Canada'), ('[21835] Applegreen plc', '[61365] Applegreen'), ('[58054] Taiheiyo Cement Corporation', '[18437] Taiheiyo Cement Corp'), ('[32186] Trapizzino', '[31949] Trapizzino'), ('[8364] Kiocl', '[58472] Kiocl'), ('[9942] Swiss Life Holding', '[4669] Swiss Life'), ('[36775] Shikoku Electric Power Co Inc', '[18585] Shikoku Electric Power Company, Inc.'), ('[8796] Korea Gas', '[57356] Korea Gas Corporation'), ('[59073] Xpel', '[5167] Xpel'), ('[52428] General Dynamics Corporation', '[9803] General Dynamics'), ('[34578] C&C Group plc', '[64427] C&C Group'), ('[30857] BITTNET', '[31065] Bittnet Systems'), ('[63893] Jil Sander', '[49474] JIL SANDER SPA'), ('[32459] La Vida Europe', '[32148] La Vida Europe'), ('[35311] Wolverine World Wide Inc', '[5280] Wolverine World Wide'), ('[49655] RECTICEL OU', '[46507] RECTICEL OU'), ('[35787] Xilinx Inc', '[52530] Xilinx'), ('[18549] Kokuyo Co. Ltd', '[59308] Kokuyo'), ('[60056] Essentra', '[23658] Essentra plc'), ('[57507] Corbion', '[19115] Corbion N.V.'), ('[1866] China Eastern Airlines', '[12793] China Eastern Airlines Corporation Limited'), ('[57138] Jizhong Energy Resources', '[36525] Jizhong Energy Resources Co Ltd'), ('[21916] Safran SA', '[10248] Safran'), ('[61761] Semapa - Sociedade De Investimento E Gestao Sgps', '[35368] Semapa Sociedade de Investimento e Gestao SGPS SA'), ('[49397] AMAZON.COM SERVICES LLC', '[52108] Amazon.com'), ('[51230] Workday Careers', '[52406] Workday'), ('[27234] Saudi Arabian Mining', \"[52932] Saudi Arabian Mining Company (ma'aden)\"), ('[36764] Ingles Markets Inc', '[59599] Ingles Markets'), ('[61322] Getac Technology Corporation', '[33666] Getac Holdings Corp'), ('[18622] United Super Markets Holdings, Inc.', '[61356] United Super Markets Holdings'), ('[11784] Haohua Chemical Science & Technology Corp Ltd', '[55289] Haohua Chemical Science & Technology'), ('[37306] Wustenrot & Wurttembergische AG', '[58933] Wustenrot & Wurttembergische Ag'), ('[7967] Grendene', '[16846] Grendene SA')]\n",
      "Processing file: ../blocking/results/lsh_bigram_gt_blocking.json\n",
      "Processing file: ../blocking/results/lsh_bigram_gt_blocking.json\n",
      "Processing file: ../blocking/results/lsh_bigram_gt_blocking.json\n",
      "Processing file: ../blocking/results/lsh_bigram_gt_blocking.json\n",
      "Processing file: ../blocking/results/lsh_bigram_gt_blocking.json\n"
     ]
    },
    {
     "name": "stderr",
     "output_type": "stream",
     "text": [
      "c:\\Code\\VSCode\\de-projects\\project-5\\src\\evaluation\\../pairwise_matching/ditto/matcher.py:307: FutureWarning: You are using `torch.load` with `weights_only=False` (the current default value), which uses the default pickle module implicitly. It is possible to construct malicious pickle data which will execute arbitrary code during unpickling (See https://github.com/pytorch/pytorch/blob/main/SECURITY.md#untrusted-models for more details). In a future release, the default value for `weights_only` will be flipped to `True`. This limits the functions that could be executed during unpickling. Arbitrary objects will no longer be allowed to be loaded via this mode unless they are explicitly allowlisted by the user via `torch.serialization.add_safe_globals`. We recommend you start setting `weights_only=True` for any use case where you don't have full control of the loaded file. Please open an issue on GitHub for any issues related to this experimental feature.\n",
      "  saved_state = torch.load(checkpoint, map_location=lambda storage, loc: storage)\n",
      "106it [00:01, 91.84it/s]\n"
     ]
    },
    {
     "name": "stdout",
     "output_type": "stream",
     "text": [
      "load_f1 = 0.9465648854961832\n",
      "real_f1 = 0.9393939393939394\n",
      "[('[17073] Acer, Inc.', '[56910] Acer'), ('[18451] Nippon Electric Glass Co., Ltd.', '[58120] Nippon Electric Glass'), ('[24355] Centamin plc', '[60194] Centamin'), ('[21710] Prada S.p.A.', '[1817] Prada'), ('[18151] Nintendo Co Ltd', '[1515] Nintendo'), ('[25474] Royal Gold, Inc.', '[54881] Royal Gold'), ('[33838] Alkermes Plc', '[56316] Alkermes'), ('[58182] Nec Networks & System Integration Corporation', '[35525] NEC Networks & System Integration Corp'), ('[25687] Option Care Health, Inc.', '[4934] Option Care Health'), ('[14690] dormakaba Holding AG', '[8428] Dormakaba'), ('[62618] Corporacion America Airports', '[8372] Corporación América Airports'), ('[14681] Landis+Gyr Group AG', '[8744] Landis+gyr'), ('[27874] Extra Space Storage', '[34435] Extra Space Storage Inc'), ('[2454] Hana', '[26979] Hana Financial Group'), ('[52682] Ashtead Group', '[48906] ASHTEAD GROUP PUBLIC LIMITED COMPANY'), ('[54234] Castellum Ab (publ)', '[28150] Castellum'), ('[58706] Itau Corpbanca', '[8737] Itaú Corpbanca'), ('[23321] Ternium Argentina SA', '[55249] Ternium Argentina'), ('[58224] Renasant Corporation', '[8619] Renasant Corp'), ('[2759] MindMaze', '[60315] Mindmaze'), ('[36735] Taiwan Mobile Co Ltd', '[1920] Taiwan Mobile'), ('[25557] Reinsurance Group of America, Incorporated', '[27463] Reinsurance Group of America'), ('[6870] Aurora Cannabis', '[16026] Aurora Cannabis Inc.'), ('[25438] Apartment Income REIT Corp.', '[4925] Apartment Income Reit'), ('[37616] Spotify Technology SA', '[27890] Spotify Technology'), ('[21895] Amundi SA', '[4694] Amundi'), ('[34476] North China Pharmaceutical Co Ltd', '[57045] North China Pharmaceutical Company. Ltd'), ('[5597] Creepy Jar', '[15739] Creepy Jar SA'), ('[47916] CITIZENM LONDON BANKSIDE OPERATIONS B.V.', '[50713] CITIZENM LONDON BANKSIDE OPERATIONS B.V.'), ('[22441] Service Stream Limited', '[33775] Service Stream Ltd'), ('[7776] Schnitzer Steel', '[35962] Schnitzer Steel Industries, Inc.'), ('[61274] Nayax Ltd.', '[15715] Nayax Ltd'), ('[18257] Kajima Corp', '[55114] Kajima Corporation'), ('[11114] JL Mag Rare-Earth Co. Ltd', '[55856] Jl Mag Rare-earth'), ('[54287] Under Armour', '[25532] Under Armour, Inc.'), ('[4904] Ionis Pharmaceuticals', '[25721] Ionis Pharmaceuticals, Inc.'), ('[50837] GIORGIO GORI SRL', '[47968] GIORGIO GORI SRL'), ('[8325] Kar Auction Services', '[58685] Kar Auction Services'), ('[9668] Oracle', '[52142] Oracle Corporation'), ('[48468] AAC TECHNOLOGIES HOLDINGS INC', '[55529] Aac Technologies Holdings'), ('[10028] New China Life Insurance', '[53428] New China Life Insurance Company'), ('[37986] Kinder Morgan Inc', '[26965] Kinder Morgan'), ('[36587] Twitter Inc', '[52799] Twitter'), ('[36055] Shanghai Maling Aquarius Co Ltd', '[61192] Shanghai Maling Aquarius'), ('[26790] Xiaomi', '[52423] Xiaomi Corporation'), ('[52164] At&t', '[23417] AT&T'), ('[4463] Société Générale', '[38633] Societe Generale SA'), ('[27109] Warner Bros. Discovery', '[53495] Warner Bros. Discovery Inc'), ('[39708] ALL ABOUT CRAFTS LIMITED', '[39705] ALL ABOUT CRAFTS TRADE LIMITED'), ('[23285] China Merchants Bank', '[9580] China Merchants Bank'), ('[46921] WATCHTOWER SECURITY SOLUTIONS UNITED KINGDOM LIMITED', '[49653] WATCHTOWER SECURITY SOLUTIONS UNITED KINGDOM LIMITED'), ('[21972] Elisa Oyj', '[54094] Elisa Oyj'), ('[3983] Kraft Heinz', '[52558] Kraft Heinz Company'), ('[30013] Nanofilm Technologies International', '[20181] Nanofilm Technologies International Ltd'), ('[12867] Banque Cantonale de Genève SA', '[60954] Banque Cantonale De Geneve Sa'), ('[27496] Union Bank of India', '[37582] Union Bank of India'), ('[28324] Booz Allen Hamilton Holding', '[25380] Booz Allen Hamilton Holding Corporation'), ('[5310] Mrc Global', '[35466] MRC Global Inc'), ('[3739] China Construction Bank', '[52162] China Construction Bank Corporation'), ('[10122] Infineon Technologies', '[4028] Infineon'), ('[35774] Spectrum Brands Holdings Inc', '[5091] Spectrum Brands'), ('[47817] MERRILL LYNCH EUROPE LIMITED', '[50609] MERRILL LYNCH EUROPE LIMITED'), ('[9068] Atlas Air Worldwide Holdings', '[36255] Atlas Air Worldwide Holdings Inc'), ('[10828] OVH Groupe SAS', '[2829] OVH'), ('[8979] Arch Resources', '[35130] Arch Resources Inc'), ('[27997] Nu Holdings', '[52582] Nu Holdings Ltd.'), ('[58068] Wonders Information', '[11423] Wonders Information Co. Ltd'), ('[56001] Leyard Optoelectronic', '[11186] Leyard Optoelectronic Co. Ltd'), ('[5125] Kennedy Wilson', '[56793] Kennedy-wilson Holdings'), ('[40870] T AND B ASSETS LTD', '[44334] T AND B ASSETS LTD'), ('[60767] Blackrock Throgmorton Trust', '[24316] BlackRock Throgmorton Trust plc'), ('[34048] Fox Factory Holding Corp', '[54797] Fox Factory Holding'), ('[47546] VEOLIA NORTH AMERICA, INC.', '[47543] VEOLIA NORTH AMERICA, LLC'), ('[65761] Mölnlycke Health Care', '[34920] Molnlycke Health Care AB'), ('[47798] EVERBRIDGE, INC.', '[58116] Everbridge'), ('[37059] PT Hanjaya Mandala Sampoerna Tbk', '[20404] Hanjaya Mandala Sampoerna Tbk PT'), ('[54324] Edison S.p.a', '[64675] Edison'), ('[4568] First Solar', '[35643] First Solar Inc'), ('[38804] Microsoft Corp', '[26508] Microsoft'), ('[52151] Chevron Corporation', '[9582] Chevron'), ('[38082] Texas Instruments Inc', '[3748] Texas Instruments'), ('[26861] Japan Tobacco', '[38184] Japan Tobacco Inc'), ('[34206] Bank Albilad', '[28107] Bank Albilad'), ('[1700] Japan Airlines (JAL)', '[18208] Japan Airlines Co. Ltd'), ('[37434] Cheniere Energy Partners LP', '[25063] Cheniere Energy, Inc.'), ('[9033] Varonis', '[55717] Varonis Systems'), ('[56879] Elite Material', '[34173] Elite Material Co Ltd'), ('[31707] Divido', '[29275] Divido Financial Services'), ('[14763] Mekonomen AB', '[62420] Mekonomen Ab (publ)'), ('[23690] JPMorgan Global Growth & Income plc', '[62271] Jpmorgan Global Growth & Income'), ('[15873] Lundin Gold Inc.', '[59242] Lundin Gold'), ('[9696] Truist Financial', '[52293] Truist Financial Corporation'), ('[6121] Hexo', '[16377] HEXO Corp.'), ('[50313] COMPAGNIA AEREA ITALIANA SPA', '[47467] COMPAGNIA AEREA ITALIANA SPA'), ('[25431] Zynga Inc.', '[54795] Zynga'), ('[3929] Monster Beverage', '[52506] Monster Beverage Corporation'), ('[47746] METSA BOARD ITALIA SRL', '[50613] METSA BOARD ITALIA SRL'), ('[35599] Sociedad Quimica y Minera de Chile SA', '[53568] Sociedad Quimica Y Minera De Chile'), ('[50565] U.C.I.T. SRL', '[47698] U.C.I.T. SRL'), ('[24588] Jubilee Enterprise Public Company Ltd', '[20023] Jubilee Industries Holdings Ltd'), ('[46226] Deutsche Bank Spa', '[21109] Deutsche Bank AG'), ('[38470] Hyundai Mobis Co Ltd', '[26980] Hyundai Mobis'), ('[54879] Air Canada', '[36592] Air Canada'), ('[21835] Applegreen plc', '[61365] Applegreen'), ('[58054] Taiheiyo Cement Corporation', '[18437] Taiheiyo Cement Corp'), ('[32186] Trapizzino', '[31949] Trapizzino'), ('[8364] Kiocl', '[58472] Kiocl'), ('[9942] Swiss Life Holding', '[4669] Swiss Life'), ('[36775] Shikoku Electric Power Co Inc', '[18585] Shikoku Electric Power Company, Inc.'), ('[8796] Korea Gas', '[57356] Korea Gas Corporation'), ('[59073] Xpel', '[5167] Xpel'), ('[52428] General Dynamics Corporation', '[9803] General Dynamics'), ('[34578] C&C Group plc', '[64427] C&C Group'), ('[30857] BITTNET', '[31065] Bittnet Systems'), ('[63893] Jil Sander', '[49474] JIL SANDER SPA'), ('[32459] La Vida Europe', '[32148] La Vida Europe'), ('[35311] Wolverine World Wide Inc', '[5280] Wolverine World Wide'), ('[49655] RECTICEL OU', '[46507] RECTICEL OU'), ('[35787] Xilinx Inc', '[52530] Xilinx'), ('[18549] Kokuyo Co. Ltd', '[59308] Kokuyo'), ('[60056] Essentra', '[23658] Essentra plc'), ('[57507] Corbion', '[19115] Corbion N.V.'), ('[1866] China Eastern Airlines', '[12793] China Eastern Airlines Corporation Limited'), ('[57138] Jizhong Energy Resources', '[36525] Jizhong Energy Resources Co Ltd'), ('[21916] Safran SA', '[10248] Safran'), ('[61761] Semapa - Sociedade De Investimento E Gestao Sgps', '[35368] Semapa Sociedade de Investimento e Gestao SGPS SA'), ('[49397] AMAZON.COM SERVICES LLC', '[52108] Amazon.com'), ('[51230] Workday Careers', '[52406] Workday'), ('[27234] Saudi Arabian Mining', \"[52932] Saudi Arabian Mining Company (ma'aden)\"), ('[36764] Ingles Markets Inc', '[59599] Ingles Markets'), ('[61322] Getac Technology Corporation', '[33666] Getac Holdings Corp'), ('[18622] United Super Markets Holdings, Inc.', '[61356] United Super Markets Holdings'), ('[11784] Haohua Chemical Science & Technology Corp Ltd', '[55289] Haohua Chemical Science & Technology'), ('[37306] Wustenrot & Wurttembergische AG', '[58933] Wustenrot & Wurttembergische Ag'), ('[7967] Grendene', '[16846] Grendene SA')]\n",
      "Processing file: ../blocking/results/lsh_words_gt_blocking.json\n",
      "Processing file: ../blocking/results/lsh_words_gt_blocking.json\n",
      "Processing file: ../blocking/results/lsh_words_gt_blocking.json\n",
      "Processing file: ../blocking/results/lsh_words_gt_blocking.json\n",
      "Processing file: ../blocking/results/lsh_words_gt_blocking.json\n"
     ]
    },
    {
     "name": "stderr",
     "output_type": "stream",
     "text": [
      "c:\\Code\\VSCode\\de-projects\\project-5\\src\\evaluation\\../pairwise_matching/ditto/matcher.py:307: FutureWarning: You are using `torch.load` with `weights_only=False` (the current default value), which uses the default pickle module implicitly. It is possible to construct malicious pickle data which will execute arbitrary code during unpickling (See https://github.com/pytorch/pytorch/blob/main/SECURITY.md#untrusted-models for more details). In a future release, the default value for `weights_only` will be flipped to `True`. This limits the functions that could be executed during unpickling. Arbitrary objects will no longer be allowed to be loaded via this mode unless they are explicitly allowlisted by the user via `torch.serialization.add_safe_globals`. We recommend you start setting `weights_only=True` for any use case where you don't have full control of the loaded file. Please open an issue on GitHub for any issues related to this experimental feature.\n",
      "  saved_state = torch.load(checkpoint, map_location=lambda storage, loc: storage)\n",
      "106it [00:01, 95.90it/s]\n"
     ]
    },
    {
     "name": "stdout",
     "output_type": "stream",
     "text": [
      "load_f1 = 0.9465648854961832\n",
      "real_f1 = 0.9393939393939394\n"
     ]
    }
   ],
   "source": [
    "blocking_paths = [\"lsh_bigram_gt_blocking.json\", \"lsh_words_gt_blocking.json\"]\n",
    "pairwise_methods = [\"jarowinkler\", \"ditto\", \"deepmatcher\"]\n",
    "\n",
    "for blocking_path in blocking_paths:\n",
    "    pairs: list = pm_evaluation.get_pairs_for_pairwise_matching(blocking_path)\n",
    "    print(pairs)\n",
    "    \n",
    "    for pw_method in pairwise_methods:\n",
    "        if pw_method == \"jarowinkler\":\n",
    "            for threshold in [0.7, 0.75, 0.8, 0.85, 0.9]:\n",
    "                # do jarowinkler pw and save to file\n",
    "                jw_matcher.pairwise_matching(blocking_path, threshold)\n",
    "        elif pw_method == \"ditto\":\n",
    "            blocking_path = blocking_path.replace(\"json\", \"txt\")\n",
    "            ditto_matcher.pairwise_matching(pairs_to_evaluate=pairs,\n",
    "                                            checkpoint_path='../pairwise_matching/ditto/checkpoints/',\n",
    "                                            ditto_path='../pairwise_matching/ditto/',\n",
    "                                            output_path='results/ditto/' + blocking_path)\n",
    "        elif pw_method == \"deepmatcher\":\n",
    "            # do dm pw aoooo\n",
    "            pass"
   ]
  },
  {
   "cell_type": "markdown",
   "metadata": {},
   "source": [
    "#### Eval of pairwise"
   ]
  },
  {
   "cell_type": "code",
   "execution_count": 25,
   "metadata": {},
   "outputs": [
    {
     "name": "stdout",
     "output_type": "stream",
     "text": [
      "\u001b[31mDITTO\u001b[0m\n",
      "\n",
      "\u001b[36mPairwise matching EVALUATION for results\\ditto\\lsh_bigram_gt_blocking.txt\u001b[0m\n",
      "- \u001b[32mPrecision: \u001b[0m0.96\n",
      "- \u001b[32mRecall: \u001b[0m0.98\n",
      "- \u001b[32mF1: \u001b[0m0.97\n",
      "\n",
      "\n",
      "\u001b[36mPairwise matching EVALUATION for results\\ditto\\lsh_words_gt_blocking.txt\u001b[0m\n",
      "- \u001b[32mPrecision: \u001b[0m0.96\n",
      "- \u001b[32mRecall: \u001b[0m0.98\n",
      "- \u001b[32mF1: \u001b[0m0.97\n",
      "\n",
      "\u001b[31mJAROWINKLER\u001b[0m\n",
      "\n",
      "\u001b[36mPairwise matching EVALUATION for results\\jarowinkler\\lsh_bigram_gt_t0.7.txt\u001b[0m\n",
      "- \u001b[32mPrecision: \u001b[0m0.96\n",
      "- \u001b[32mRecall: \u001b[0m0.94\n",
      "- \u001b[32mF1: \u001b[0m0.95\n",
      "\n",
      "\n",
      "\u001b[36mPairwise matching EVALUATION for results\\jarowinkler\\lsh_bigram_gt_t0.75.txt\u001b[0m\n",
      "- \u001b[32mPrecision: \u001b[0m0.96\n",
      "- \u001b[32mRecall: \u001b[0m0.94\n",
      "- \u001b[32mF1: \u001b[0m0.95\n",
      "\n",
      "\n",
      "\u001b[36mPairwise matching EVALUATION for results\\jarowinkler\\lsh_bigram_gt_t0.8.txt\u001b[0m\n",
      "- \u001b[32mPrecision: \u001b[0m0.96\n",
      "- \u001b[32mRecall: \u001b[0m0.92\n",
      "- \u001b[32mF1: \u001b[0m0.94\n",
      "\n",
      "\n",
      "\u001b[36mPairwise matching EVALUATION for results\\jarowinkler\\lsh_bigram_gt_t0.85.txt\u001b[0m\n",
      "- \u001b[32mPrecision: \u001b[0m0.97\n",
      "- \u001b[32mRecall: \u001b[0m0.86\n",
      "- \u001b[32mF1: \u001b[0m0.91\n",
      "\n",
      "\n",
      "\u001b[36mPairwise matching EVALUATION for results\\jarowinkler\\lsh_bigram_gt_t0.9.txt\u001b[0m\n",
      "- \u001b[32mPrecision: \u001b[0m0.96\n",
      "- \u001b[32mRecall: \u001b[0m0.73\n",
      "- \u001b[32mF1: \u001b[0m0.83\n",
      "\n",
      "\n",
      "\u001b[36mPairwise matching EVALUATION for results\\jarowinkler\\lsh_words_gt_t0.7.txt\u001b[0m\n",
      "- \u001b[32mPrecision: \u001b[0m0.96\n",
      "- \u001b[32mRecall: \u001b[0m0.94\n",
      "- \u001b[32mF1: \u001b[0m0.95\n",
      "\n",
      "\n",
      "\u001b[36mPairwise matching EVALUATION for results\\jarowinkler\\lsh_words_gt_t0.75.txt\u001b[0m\n",
      "- \u001b[32mPrecision: \u001b[0m0.96\n",
      "- \u001b[32mRecall: \u001b[0m0.94\n",
      "- \u001b[32mF1: \u001b[0m0.95\n",
      "\n",
      "\n",
      "\u001b[36mPairwise matching EVALUATION for results\\jarowinkler\\lsh_words_gt_t0.8.txt\u001b[0m\n",
      "- \u001b[32mPrecision: \u001b[0m0.96\n",
      "- \u001b[32mRecall: \u001b[0m0.92\n",
      "- \u001b[32mF1: \u001b[0m0.94\n",
      "\n",
      "\n",
      "\u001b[36mPairwise matching EVALUATION for results\\jarowinkler\\lsh_words_gt_t0.85.txt\u001b[0m\n",
      "- \u001b[32mPrecision: \u001b[0m0.97\n",
      "- \u001b[32mRecall: \u001b[0m0.86\n",
      "- \u001b[32mF1: \u001b[0m0.91\n",
      "\n",
      "\n",
      "\u001b[36mPairwise matching EVALUATION for results\\jarowinkler\\lsh_words_gt_t0.9.txt\u001b[0m\n",
      "- \u001b[32mPrecision: \u001b[0m0.96\n",
      "- \u001b[32mRecall: \u001b[0m0.72\n",
      "- \u001b[32mF1: \u001b[0m0.82\n",
      "\n"
     ]
    }
   ],
   "source": [
    "import os\n",
    "RED = \"\\033[31m\"\n",
    "RESET = \"\\033[0m\"\n",
    "\n",
    "for dirpath, _, filenames in os.walk(\"results\"):\n",
    "    if dirpath != \"results\":\n",
    "        name = dirpath.split(\"\\\\\")[1].upper()\n",
    "        print(f\"{RED}{name}{RESET}\")\n",
    "    for filename in filenames:\n",
    "        filepath = os.path.join(dirpath, filename)\n",
    "        pm_evaluation.evaluate(\"../ground_truth/gt.txt\", filepath)\n",
    "        "
   ]
  },
  {
   "cell_type": "markdown",
   "metadata": {},
   "source": [
    "#### Execution Times\n",
    "\n",
    "##### Ditto\n",
    "Time for ditto pairwise matching on 65.895 items after lsh_bigram_blocking: **9504.578912 seconds - 158 minutes.**\n",
    "\n",
    "Time for ditto pairwise matching on gt items with both blocking methods: **Average of 1.6 seconds**"
   ]
  }
 ],
 "metadata": {
  "kernelspec": {
   "display_name": "Python 3",
   "language": "python",
   "name": "python3"
  },
  "language_info": {
   "codemirror_mode": {
    "name": "ipython",
    "version": 3
   },
   "file_extension": ".py",
   "mimetype": "text/x-python",
   "name": "python",
   "nbconvert_exporter": "python",
   "pygments_lexer": "ipython3",
   "version": "3.11.3"
  }
 },
 "nbformat": 4,
 "nbformat_minor": 2
}
