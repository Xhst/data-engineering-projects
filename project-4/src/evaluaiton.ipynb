{
 "cells": [
  {
   "cell_type": "code",
   "execution_count": 1,
   "metadata": {},
   "outputs": [],
   "source": [
    "import paths\n",
    "from evaluation import evaluate_claims, evaluate_specs, extract_claims_from_directory"
   ]
  },
  {
   "cell_type": "markdown",
   "metadata": {},
   "source": [
    "## Evaluation method 1: Exact match\n",
    "\n",
    "Here we consider a claim a true positive if it is exactly the same as the ground truth. Even one spec error or one difference in a string leads to a true negative.\n",
    "We measure claim Precision, Accuracy and F1-measure alongside the same metrics regarding specifications."
   ]
  },
  {
   "cell_type": "code",
   "execution_count": 2,
   "metadata": {},
   "outputs": [
    {
     "ename": "NameError",
     "evalue": "name 'extract_claims_from_files' is not defined",
     "output_type": "error",
     "traceback": [
      "\u001b[1;31m---------------------------------------------------------------------------\u001b[0m",
      "\u001b[1;31mNameError\u001b[0m                                 Traceback (most recent call last)",
      "Cell \u001b[1;32mIn[2], line 1\u001b[0m\n\u001b[1;32m----> 1\u001b[0m gt_dict \u001b[38;5;241m=\u001b[39m \u001b[43mextract_claims_from_files\u001b[49m(paths\u001b[38;5;241m.\u001b[39mGROUND_TRUTH\u001b[38;5;241m.\u001b[39mCLAIMS\u001b[38;5;241m.\u001b[39mvalue)  \u001b[38;5;66;03m# Ground truth\u001b[39;00m\n\u001b[0;32m      2\u001b[0m claims_dict \u001b[38;5;241m=\u001b[39m extract_claims_from_files(paths\u001b[38;5;241m.\u001b[39mCLAIMS)  \u001b[38;5;66;03m# Predictions\u001b[39;00m\n\u001b[0;32m      4\u001b[0m precision, recall, file_number \u001b[38;5;241m=\u001b[39m evaluate_claims(gt_dict, claims_dict)\n",
      "\u001b[1;31mNameError\u001b[0m: name 'extract_claims_from_files' is not defined"
     ]
    }
   ],
   "source": [
    "gt_dict = extract_claims_from_directory(paths.GROUND_TRUTH.CLAIMS.value)  # Ground truth\n",
    "claims_dict = extract_claims_from_directory(paths.CLAIMS)  # Predictions\n",
    "\n",
    "precision, recall, file_number = evaluate_claims(gt_dict, claims_dict)\n",
    "f1 = 2 * ((precision * recall) / (precision + recall)) if (precision + recall) > 0 else 0\n",
    "\n",
    "print(f\"\\033[32\\nmDone! \\033[0m{file_number}\\033[32m files were analyzed\\033[0m\")\n",
    "print(f\"\\033[32mPrecision = \\033[0m {precision:.2f}\")\n",
    "print(f\"\\033[32mRecall = \\033[0m {recall:.2f}\")\n",
    "print(f\"\\033[32mF1 = \\033[0m {f1:.2f}\\n\")\n",
    "\n",
    "\n",
    "precision, recall, file_number = evaluate_specs(gt_dict, claims_dict)\n",
    "f1 = 2 * ((precision * recall) / (precision + recall)) if (precision + recall) > 0 else 0\n",
    "\n",
    "print(f\"\\033[32\\nmDone! \\033[0m{file_number}\\033[32m files were analyzed\\033[0m\")\n",
    "print(f\"\\033[32mPrecision = \\033[0m {precision:.2f}\")\n",
    "print(f\"\\033[32mRecall = \\033[0m {recall:.2f}\")\n",
    "print(f\"\\033[32mF1 = \\033[0m {f1:.2f}\\n\")"
   ]
  },
  {
   "cell_type": "markdown",
   "metadata": {},
   "source": [
    "## Evaluation method 2: Exact match with Threshold\n",
    "\n",
    "Here we consider a claim a true positive if it has at least _threshold_ specifications that are the exact same. Specifications are treated as before.\n",
    "We measure claim Precision, Accuracy and F1-measure alongside the same metrics regarding specifications."
   ]
  },
  {
   "cell_type": "code",
   "execution_count": null,
   "metadata": {},
   "outputs": [],
   "source": [
    "precision, recall, file_number = evaluate_specs(paths.GROUND_TRUTH.CLAIMS.value, paths.CLAIMS)\n",
    "f1 = 2 * ((precision * recall) / (precision + recall)) if (precision + recall) > 0 else 0\n",
    "\n",
    "print(f\"\\033[32\\nmDone! \\033[0m{file_number}\\033[32m files were analyzed\\033[0m\")\n",
    "print(f\"\\033[32mPrecision = \\033[0m {precision:.2f}\")\n",
    "print(f\"\\033[32mRecall = \\033[0m {recall:.2f}\")\n",
    "print(f\"\\033[32mF1 = \\033[0m {f1:.2f}\\n\")\n",
    "\n",
    "\n",
    "precision, recall, file_number = evaluate_claims(paths.GROUND_TRUTH.CLAIMS.value, paths.CLAIMS)\n",
    "f1 = 2 * ((precision * recall) / (precision + recall)) if (precision + recall) > 0 else 0\n",
    "\n",
    "print(f\"\\033[32\\nmDone! \\033[0m{file_number}\\033[32m files were analyzed\\033[0m\")\n",
    "print(f\"\\033[32mPrecision = \\033[0m {precision:.2f}\")\n",
    "print(f\"\\033[32mRecall = \\033[0m {recall:.2f}\")\n",
    "print(f\"\\033[32mF1 = \\033[0m {f1:.2f}\\n\")"
   ]
  }
 ],
 "metadata": {
  "kernelspec": {
   "display_name": "Python 3",
   "language": "python",
   "name": "python3"
  },
  "language_info": {
   "codemirror_mode": {
    "name": "ipython",
    "version": 3
   },
   "file_extension": ".py",
   "mimetype": "text/x-python",
   "name": "python",
   "nbconvert_exporter": "python",
   "pygments_lexer": "ipython3",
   "version": "3.12.5"
  }
 },
 "nbformat": 4,
 "nbformat_minor": 2
}
