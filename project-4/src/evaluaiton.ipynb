{
 "cells": [
  {
   "cell_type": "code",
   "execution_count": 1,
   "metadata": {},
   "outputs": [],
   "source": [
    "import paths\n",
    "from ansi_colors import *\n",
    "from evaluation import evaluate_claims, evaluate_specs, extract_claims_from_directory, calculate_metrics_with_threshold\n",
    "\n",
    "gt_dict = extract_claims_from_directory(paths.GROUND_TRUTH.CLAIMS.value)  # Ground truth\n",
    "claims_dict = extract_claims_from_directory(paths.CLAIMS)  # Predictions"
   ]
  },
  {
   "cell_type": "markdown",
   "metadata": {},
   "source": [
    "## Evaluation method 1: Exact match\n",
    "\n",
    "Here we consider a claim a true positive if it is exactly the same as the ground truth. Even one spec error or one difference in a string leads to a true negative.\n",
    "We measure claim Precision, Accuracy and F1-measure alongside the same metrics regarding specifications."
   ]
  },
  {
   "cell_type": "code",
   "execution_count": 2,
   "metadata": {},
   "outputs": [
    {
     "name": "stdout",
     "output_type": "stream",
     "text": [
      "- \u001b[31mCLAIMS evaluation started:\u001b[0m\n",
      "\u001b[32mDone! \u001b[0m31\u001b[32m files were analyzed\u001b[0m\n",
      "\u001b[32mPrecision = \u001b[0m 0.53\n",
      "\u001b[32mRecall = \u001b[0m 0.52\n",
      "\u001b[32mF1 = \u001b[0m 0.52\n",
      "\n",
      "- \u001b[31mSPECS evaluation started:\u001b[0m\n",
      "\u001b[32mDone! \u001b[0m31\u001b[32m files were analyzed\u001b[0m\n",
      "\u001b[32mPrecision = \u001b[0m 0.93\n",
      "\u001b[32mRecall = \u001b[0m 0.92\n",
      "\u001b[32mF1 = \u001b[0m 0.93\n",
      "\n"
     ]
    }
   ],
   "source": [
    "precision, recall, file_number = evaluate_claims(gt_dict, claims_dict)\n",
    "f1 = 2 * ((precision * recall) / (precision + recall)) if (precision + recall) > 0 else 0\n",
    "\n",
    "print(f\"{GREEN}Done! {RESET}{file_number}{GREEN} files were analyzed{RESET}\")\n",
    "print(f\"{GREEN}Precision = {RESET} {precision:.2f}\")\n",
    "print(f\"{GREEN}Recall = {RESET} {recall:.2f}\")\n",
    "print(f\"{GREEN}F1 = {RESET} {f1:.2f}\\n\")\n",
    "\n",
    "\n",
    "precision, recall, file_number = evaluate_specs(gt_dict, claims_dict)\n",
    "f1 = 2 * ((precision * recall) / (precision + recall)) if (precision + recall) > 0 else 0\n",
    "\n",
    "print(f\"{GREEN}Done! {RESET}{file_number}{GREEN} files were analyzed{RESET}\")\n",
    "print(f\"{GREEN}Precision = {RESET} {precision:.2f}\")\n",
    "print(f\"{GREEN}Recall = {RESET} {recall:.2f}\")\n",
    "print(f\"{GREEN}F1 = {RESET} {f1:.2f}\\n\")"
   ]
  },
  {
   "cell_type": "markdown",
   "metadata": {},
   "source": [
    "## Evaluation method 2: Best match with Threshold\n",
    "\n",
    "Here we consider a claim a true positive if it has at least _threshold_ specifications that are the exact same. Specifications are treated as before.\n",
    "We measure claim Precision, Accuracy and F1-measure alongside the same metrics regarding specifications.\n",
    "\n",
    "### How It Works\n",
    "\n",
    "1. Specification Precision for Each Claim:\n",
    "    - For each predicted claim, it calculates the precision of its specifications compared to every unmatched ground truth claim.\n",
    "    - The precision is calculated as:\n",
    "    - Precision=True PositivesTrue Positives+False Positives\n",
    "    - Precision=True Positives+False PositivesTrue Positives​\n",
    "    - The claim is considered a true positive if its specification precision is greater than or equal to the threshold.\n",
    "\n",
    "2. Claim Matching:\n",
    "    - Each predicted claim is matched to the best ground truth claim based on specification precision.\n",
    "    - Ground truth and predicted claims that are matched are marked to avoid duplication.\n",
    "\n",
    "3. Update Metrics:\n",
    "    - True positives, false positives, and false negatives are updated for both claims and specifications based on the matching.\n",
    "\n",
    "4. Final Metric Calculation:\n",
    "    - After processing all claims, precision, recall, and F1-score are calculated for both specifications and claims."
   ]
  },
  {
   "cell_type": "code",
   "execution_count": 20,
   "metadata": {},
   "outputs": [
    {
     "name": "stdout",
     "output_type": "stream",
     "text": [
      "- \u001b[31mCLAIMS evaluation:\u001b[0m\n",
      "\u001b[32mDone!\u001b[0m\n",
      "\u001b[32mPrecision = \u001b[0m 0.79\n",
      "\u001b[32mRecall = \u001b[0m 0.87\n",
      "\u001b[32mF1 = \u001b[0m 0.83\n",
      "\n",
      "- \u001b[31mSPECS evaluation:\u001b[0m\n",
      "\u001b[32mDone!\u001b[0m\n",
      "\u001b[32mPrecision = \u001b[0m 1.00\n",
      "\u001b[32mRecall = \u001b[0m 0.98\n",
      "\u001b[32mF1 = \u001b[0m 0.99\n",
      "\n"
     ]
    }
   ],
   "source": [
    "metrics = calculate_metrics_with_threshold(gt_dict, claims_dict, 0.9)\n",
    "\n",
    "print(f\"- {RED}CLAIMS evaluation:{RESET}\")\n",
    "print(f\"{GREEN}Done!{RESET}\")\n",
    "print(f\"{GREEN}Precision = {RESET} {metrics[\"claim_precision\"]:.2f}\")\n",
    "print(f\"{GREEN}Recall = {RESET} {metrics[\"claim_recall\"]:.2f}\")\n",
    "print(f\"{GREEN}F1 = {RESET} {metrics[\"claim_f1\"]:.2f}\\n\")\n",
    "\n",
    "print(f\"- {RED}SPECS evaluation:{RESET}\")\n",
    "print(f\"{GREEN}Done!{RESET}\")\n",
    "print(f\"{GREEN}Precision = {RESET} {metrics[\"spec_precision\"]:.2f}\")\n",
    "print(f\"{GREEN}Recall = {RESET} {metrics[\"spec_recall\"]:.2f}\")\n",
    "print(f\"{GREEN}F1 = {RESET} {metrics[\"spec_f1\"]:.2f}\\n\")\n"
   ]
  }
 ],
 "metadata": {
  "kernelspec": {
   "display_name": "Python 3",
   "language": "python",
   "name": "python3"
  },
  "language_info": {
   "codemirror_mode": {
    "name": "ipython",
    "version": 3
   },
   "file_extension": ".py",
   "mimetype": "text/x-python",
   "name": "python",
   "nbconvert_exporter": "python",
   "pygments_lexer": "ipython3",
   "version": "3.12.5"
  }
 },
 "nbformat": 4,
 "nbformat_minor": 2
}
