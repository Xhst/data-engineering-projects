{
 "cells": [
  {
   "cell_type": "code",
   "execution_count": 1,
   "metadata": {},
   "outputs": [],
   "source": [
    "import paths\n",
    "from ansi_colors import *\n",
    "from evaluation import evaluate_claims, evaluate_claims_parts, extract_claims_from_directory\n",
    "\n",
    "gt_dict = extract_claims_from_directory(paths.GROUND_TRUTH.CLAIMS.value)  # Ground truth\n",
    "claims_dict = extract_claims_from_directory(paths.CLAIMS)  # Predictions"
   ]
  },
  {
   "cell_type": "markdown",
   "metadata": {},
   "source": [
    "## Evaluation method 1: Exact match\n",
    "\n",
    "Here we consider a claim a true positive if it is exactly the same as the ground truth. Even one spec error or one difference in a string leads to a true negative.\n",
    "We measure claim Precision, Accuracy and F1-measure alongside the same metrics regarding specifications."
   ]
  },
  {
   "cell_type": "code",
   "execution_count": 2,
   "metadata": {},
   "outputs": [
    {
     "name": "stdout",
     "output_type": "stream",
     "text": [
      "- \u001b[31mCLAIMS evaluation started:\u001b[0m\n",
      "\u001b[32mDone! \u001b[0m31\u001b[32m files were analyzed\u001b[0m\n",
      "\u001b[32mPrecision = \u001b[0m 0.51\n",
      "\u001b[32mRecall = \u001b[0m 0.50\n",
      "\u001b[32mF1 = \u001b[0m 0.50\n",
      "\n",
      "- \u001b[31mCLAIMS PARTS evaluation started:\u001b[0m\n",
      "\u001b[32mDone! \u001b[0m31\u001b[32m files were analyzed\u001b[0m\n",
      "\u001b[32mPrecision = \u001b[0m 0.75\n",
      "\u001b[32mRecall = \u001b[0m 0.73\n",
      "\u001b[32mF1 = \u001b[0m 0.74\n",
      "\n"
     ]
    }
   ],
   "source": [
    "precision, recall, file_number = evaluate_claims(gt_dict, claims_dict)\n",
    "f1 = 2 * ((precision * recall) / (precision + recall)) if (precision + recall) > 0 else 0\n",
    "\n",
    "print(f\"{GREEN}Done! {RESET}{file_number}{GREEN} files were analyzed{RESET}\")\n",
    "print(f\"{GREEN}Precision = {RESET} {precision:.2f}\")\n",
    "print(f\"{GREEN}Recall = {RESET} {recall:.2f}\")\n",
    "print(f\"{GREEN}F1 = {RESET} {f1:.2f}\\n\")\n",
    "\n",
    "\n",
    "precision, recall, file_number = evaluate_claims_parts(gt_dict, claims_dict)\n",
    "f1 = 2 * ((precision * recall) / (precision + recall)) if (precision + recall) > 0 else 0\n",
    "\n",
    "print(f\"{GREEN}Done! {RESET}{file_number}{GREEN} files were analyzed{RESET}\")\n",
    "print(f\"{GREEN}Precision = {RESET} {precision:.2f}\")\n",
    "print(f\"{GREEN}Recall = {RESET} {recall:.2f}\")\n",
    "print(f\"{GREEN}F1 = {RESET} {f1:.2f}\\n\")"
   ]
  }
 ],
 "metadata": {
  "kernelspec": {
   "display_name": "Python 3",
   "language": "python",
   "name": "python3"
  },
  "language_info": {
   "codemirror_mode": {
    "name": "ipython",
    "version": 3
   },
   "file_extension": ".py",
   "mimetype": "text/x-python",
   "name": "python",
   "nbconvert_exporter": "python",
   "pygments_lexer": "ipython3",
   "version": "3.12.5"
  }
 },
 "nbformat": 4,
 "nbformat_minor": 2
}
